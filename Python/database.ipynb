{
 "cells": [
  {
   "cell_type": "markdown",
   "id": "ed100937-842b-4d1e-97e1-fe23e2d1cdc8",
   "metadata": {},
   "source": [
    "#### 1.MSSQL(MSFT)1433"
   ]
  },
  {
   "cell_type": "markdown",
   "id": "9169808d-3f8f-4a00-8f48-ff0d695c7c0a",
   "metadata": {},
   "source": [
    "#### 2.MySQL(oracle)3306"
   ]
  }
 ],
 "metadata": {
  "kernelspec": {
   "display_name": "Python 3 (ipykernel)",
   "language": "python",
   "name": "python3"
  },
  "language_info": {
   "codemirror_mode": {
    "name": "ipython",
    "version": 3
   },
   "file_extension": ".py",
   "mimetype": "text/x-python",
   "name": "python",
   "nbconvert_exporter": "python",
   "pygments_lexer": "ipython3",
   "version": "3.12.4"
  }
 },
 "nbformat": 4,
 "nbformat_minor": 5
}
