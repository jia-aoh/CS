{
 "cells": [
  {
   "cell_type": "markdown",
   "id": "d3909b14-857c-47ee-8ce8-9472960f618f",
   "metadata": {
    "jp-MarkdownHeadingCollapsed": true
   },
   "source": [
    "#### 1. 格式概念"
   ]
  },
  {
   "cell_type": "code",
   "execution_count": 7,
   "id": "4388426a-7faf-4192-b964-b83a01aec071",
   "metadata": {},
   "outputs": [],
   "source": [
    "#%run Desktop\\code\\lab_codes\\mod07\\ex7_1.py"
   ]
  },
  {
   "cell_type": "code",
   "execution_count": 19,
   "id": "58ca4f6b-cbbd-4bf5-a35c-bee0118e00b1",
   "metadata": {},
   "outputs": [],
   "source": [
    "#%run desktop/code/lab_codes/mod07/ifstmt1.py"
   ]
  },
  {
   "cell_type": "code",
   "execution_count": 22,
   "id": "77de382b-3656-4a90-b75f-f0508a8cfbbb",
   "metadata": {},
   "outputs": [
    {
     "data": {
      "text/plain": [
       "50"
      ]
     },
     "execution_count": 22,
     "metadata": {},
     "output_type": "execute_result"
    }
   ],
   "source": [
    "a=11+12+\\\n",
    "13+14  #換行接續>>>...第一第二提示字元 msft是linux白金會員\n",
    "a"
   ]
  },
  {
   "cell_type": "code",
   "execution_count": 28,
   "id": "1fba8cdf-9da2-4976-8b3b-a13338858bec",
   "metadata": {},
   "outputs": [
    {
     "data": {
      "text/plain": [
       "[11, 12, 13, 14]"
      ]
     },
     "execution_count": 28,
     "metadata": {},
     "output_type": "execute_result"
    }
   ],
   "source": [
    "lst=[11,12,\n",
    "      13,14]\n",
    "lst"
   ]
  },
  {
   "cell_type": "code",
   "execution_count": 44,
   "id": "bf04db21-42e4-4eeb-96ac-5693d8dae070",
   "metadata": {},
   "outputs": [
    {
     "data": {
      "text/plain": [
       "'This is String'"
      ]
     },
     "execution_count": 44,
     "metadata": {},
     "output_type": "execute_result"
    }
   ],
   "source": [
    "# comment #空格是linux註解pep, #不空格是使指令功能消失\n",
    "'''This is String'''"
   ]
  },
  {
   "cell_type": "code",
   "execution_count": 46,
   "id": "7132d979-cc1c-4409-8ce6-dd4bd328f2d2",
   "metadata": {},
   "outputs": [],
   "source": [
    "# compound statement同一組敘述\n",
    "# python用indentation 4格, java用大括號"
   ]
  },
  {
   "cell_type": "markdown",
   "id": "1aa7ffef-1f6c-469d-a641-3cfc35d6c5d0",
   "metadata": {
    "jp-MarkdownHeadingCollapsed": true
   },
   "source": [
    "#### 2. if判斷，三元運算"
   ]
  },
  {
   "cell_type": "code",
   "execution_count": 31,
   "id": "0070400f-0b25-40e9-b531-170af2be2970",
   "metadata": {},
   "outputs": [
    {
     "name": "stdin",
     "output_type": "stream",
     "text": [
      "what is your score? 59\n"
     ]
    },
    {
     "name": "stdout",
     "output_type": "stream",
     "text": [
      "FAIL\n",
      "You got 59 .\n"
     ]
    }
   ],
   "source": [
    "#if,elif,else,nested if\n",
    "#python沒有switch case\n",
    "#c/java=if(expr)  stmt {stmts},python=if expr:stmt stmt\\s\n",
    "# 分數及格與否,年齡,\n",
    "score=int(input('what is your score?'))\n",
    "if score==100:\n",
    "    print('s'.upper())\n",
    "\n",
    "elif score>90:\n",
    "    print('a'.upper())\n",
    "\n",
    "elif score>80:\n",
    "    print('b'.upper())\n",
    "\n",
    "elif score>70:\n",
    "    print('c'.upper())\n",
    "\n",
    "elif score>60:\n",
    "    print('d'.upper())\n",
    "\n",
    "else:\n",
    "    print('fail'.upper())\n",
    "\n",
    "print('You got',score,'.')"
   ]
  },
  {
   "cell_type": "code",
   "execution_count": 86,
   "id": "0b4c3c53-6c99-435b-87b7-8e043750e196",
   "metadata": {},
   "outputs": [
    {
     "data": {
      "text/plain": [
       "7"
      ]
     },
     "execution_count": 86,
     "metadata": {},
     "output_type": "execute_result"
    }
   ],
   "source": [
    "#a?b:c -java\n",
    "#ba?:c -python aTrueb, aFalsec\n",
    "z= 7 if 1 else 9 #stmt if expr else stmt, Boolean\n",
    "z"
   ]
  },
  {
   "cell_type": "code",
   "execution_count": 72,
   "id": "81d6f3d0-26a3-4ca2-afbb-5a0383bf44a2",
   "metadata": {},
   "outputs": [
    {
     "name": "stdin",
     "output_type": "stream",
     "text": [
      "enter a number 21\n"
     ]
    },
    {
     "data": {
      "text/plain": [
       "'ODD'"
      ]
     },
     "execution_count": 72,
     "metadata": {},
     "output_type": "execute_result"
    }
   ],
   "source": [
    "#三元加單元運算\n",
    "x=int(input('enter a number'))\n",
    "'ODD' if x%2 else'even'"
   ]
  },
  {
   "cell_type": "code",
   "execution_count": 98,
   "id": "55616b0c-09dc-4ae9-8840-d3694f976756",
   "metadata": {},
   "outputs": [
    {
     "name": "stdin",
     "output_type": "stream",
     "text": [
      "enter hour 24\n"
     ]
    },
    {
     "name": "stdout",
     "output_type": "stream",
     "text": [
      "current time=0:00\n"
     ]
    }
   ],
   "source": [
    "#time\n",
    "\n",
    "h=int(input('enter hour'))\n",
    "h=h%24 if h>=24 else h\n",
    "print(f'current time={h}:00')"
   ]
  },
  {
   "cell_type": "markdown",
   "id": "7a405576-793d-4a88-96f1-68e32dc32118",
   "metadata": {
    "jp-MarkdownHeadingCollapsed": true
   },
   "source": [
    "#### 3.Loop: while不明確次數 for明確次數 range break continue"
   ]
  },
  {
   "cell_type": "code",
   "execution_count": 5,
   "id": "e24b2116-dd98-4f08-9438-b53d02981fd2",
   "metadata": {},
   "outputs": [],
   "source": [
    "#python while可else\n",
    "\n",
    "#c,java,for(int i=1;i<10;i++)初始化；判斷；遞增遞減{stmts}\n",
    "#python,for each loop"
   ]
  },
  {
   "cell_type": "code",
   "execution_count": 68,
   "id": "410706e4-1218-4c69-a54b-341ffe072aa6",
   "metadata": {},
   "outputs": [
    {
     "name": "stdin",
     "output_type": "stream",
     "text": [
      "enter an integer 55\n"
     ]
    },
    {
     "name": "stdout",
     "output_type": "stream",
     "text": [
      "Sum of 55 = 1540\n",
      "55! = 1541\n"
     ]
    }
   ],
   "source": [
    "#while\n",
    "#輸入m得m的Sum\n",
    "\n",
    "m=int(input('enter an integer'))\n",
    "r=n=1\n",
    "\n",
    "while n<=m:\n",
    "    r+=n\n",
    "    n+=1\n",
    "\n",
    "print(f'Sum of {m} = {r-1}')\n",
    "\n",
    "#輸入m得m的階乘\n",
    "while n<=m:\n",
    "    r*=n\n",
    "    n+=1\n",
    "\n",
    "print(f'{m}! = {r}')"
   ]
  },
  {
   "cell_type": "code",
   "execution_count": 70,
   "id": "2336145a-c531-4a16-bb34-3af1fb2a2dd4",
   "metadata": {},
   "outputs": [
    {
     "name": "stdin",
     "output_type": "stream",
     "text": [
      "enter a integer 55\n"
     ]
    },
    {
     "name": "stdout",
     "output_type": "stream",
     "text": [
      "Sum is 1540.\n"
     ]
    }
   ],
   "source": [
    "#for\n",
    "#輸入m得m的Sum\n",
    "\n",
    "m=int(input('enter a integer'))\n",
    "r=0\n",
    "for i in range(1,m+1):r+=i\n",
    "\n",
    "print(f'Sum is {r}.')"
   ]
  },
  {
   "cell_type": "code",
   "execution_count": 113,
   "id": "812430b5-c031-4cbf-b2be-060cd6098706",
   "metadata": {},
   "outputs": [
    {
     "name": "stdout",
     "output_type": "stream",
     "text": [
      "range(5)= 0 1 2 3 4 \n",
      "range(1,5)= 1 2 3 4 \n",
      "range(1,10,2)= 1 3 5 7 9 "
     ]
    }
   ],
   "source": [
    "print('range(5)=',end=\" \") #end空白格接續不換行\n",
    "for i in range(5):\n",
    "    print(i,end=\" \") #end空白格接續不換行\n",
    "\n",
    "print() #換行\n",
    "print('range(1,5)=',end=' ')\n",
    "for i in range(1,5):\n",
    "    print(i,end=' ')\n",
    "\n",
    "print() #換行\n",
    "print('range(1,10,2)=',end=' ')\n",
    "for i in range(1,11,2):\n",
    "    print(i,end=' ')"
   ]
  },
  {
   "cell_type": "code",
   "execution_count": 169,
   "id": "70dbc64f-db49-4efc-b1f6-16dc6a84d754",
   "metadata": {},
   "outputs": [
    {
     "name": "stdout",
     "output_type": "stream",
     "text": [
      "1 2 3 4 5 6 \n"
     ]
    },
    {
     "name": "stdin",
     "output_type": "stream",
     "text": [
      "enter maximum 4\n"
     ]
    },
    {
     "name": "stdout",
     "output_type": "stream",
     "text": [
      "1 3 \n"
     ]
    }
   ],
   "source": [
    "#無窮迴路while true\n",
    "#while True=while 999,-1...(c的派別) \n",
    "i=0\n",
    "while True:\n",
    "    i+=1\n",
    "    print(i,end=' ')\n",
    "    if i>5:\n",
    "        break\n",
    "\n",
    "print()\n",
    "\n",
    "r=int(input('enter maximum'))\n",
    "for i in range(1,r):\n",
    "    if not i%2:continue #True就印 ***判斷二元問題用一元運算就好了\n",
    "    print(i,end=' ')\n",
    "\n",
    "print()"
   ]
  },
  {
   "cell_type": "code",
   "execution_count": 167,
   "id": "49cd10c7-75f2-41d3-ac4e-5701ef1caa16",
   "metadata": {},
   "outputs": [
    {
     "name": "stdout",
     "output_type": "stream",
     "text": [
      "2 3 5 7 11 13 17 19 23 29 31 37 41 43 47 53 59 61 67 71 73 79 83 89 97 101 103 107 109 113 127 131 137 139 149 151 157 163 167 173 179 181 191 193 197 199 211 223 227 229 233 239 241 251 257 263 269 271 277 281 283 293 307 311 313 317 331 337 347 349 353 359 367 373 379 383 389 397 401 409 419 421 431 433 439 443 449 457 461 463 467 479 487 491 499 503 509 521 523 541 547 557 563 569 571 577 587 593 599 601 607 613 617 619 631 641 643 647 653 659 661 673 677 683 691 701 709 719 727 733 739 743 751 757 761 769 773 787 797 809 811 821 823 827 829 839 853 857 859 863 877 881 883 887 907 911 919 929 937 941 947 953 967 971 977 983 991 997 "
     ]
    }
   ],
   "source": [
    "#無for-else風格(c,c#,c++,java)\n",
    "for num in range(2,1001):\n",
    "    isprime=True #定義所有數為質數（內涵合數）\n",
    "    for n in range(2,num//2+1):\n",
    "        if not num%n: #排除合數\n",
    "            isprime=False\n",
    "            break\n",
    "    if isprime: #剩餘質數印出\n",
    "            print(num,end=' ')"
   ]
  },
  {
   "cell_type": "code",
   "execution_count": 153,
   "id": "382ee5ad-6d42-4b15-8902-6e09adf03d49",
   "metadata": {},
   "outputs": [
    {
     "name": "stdout",
     "output_type": "stream",
     "text": [
      "2 3 5 7 11 13 17 19 23 29 31 37 41 43 47 53 59 61 67 71 73 79 83 89 97 101 103 107 109 113 127 131 137 139 149 151 157 163 167 173 179 181 191 193 197 199 211 223 227 229 233 239 241 251 257 263 269 271 277 281 283 293 307 311 313 317 331 337 347 349 353 359 367 373 379 383 389 397 401 409 419 421 431 433 439 443 449 457 461 463 467 479 487 491 499 503 509 521 523 541 547 557 563 569 571 577 587 593 599 601 607 613 617 619 631 641 643 647 653 659 661 673 677 683 691 701 709 719 727 733 739 743 751 757 761 769 773 787 797 809 811 821 823 827 829 839 853 857 859 863 877 881 883 887 907 911 919 929 937 941 947 953 967 971 977 983 991 997 "
     ]
    }
   ],
   "source": [
    "#python有for-else風格\n",
    "for num in range(2,1001):\n",
    "    for n in range(2,num//2+1):\n",
    "        if not num%n:\n",
    "            break\n",
    "    else:\n",
    "            print(num,end=' ')"
   ]
  },
  {
   "cell_type": "markdown",
   "id": "f935a3ec-30c8-480b-8edb-496c35aabc7f",
   "metadata": {
    "jp-MarkdownHeadingCollapsed": true
   },
   "source": [
    "#### 4. 習題"
   ]
  },
  {
   "cell_type": "code",
   "execution_count": 120,
   "id": "9cc93c16-8076-4267-8d6e-572f2a6a5213",
   "metadata": {},
   "outputs": [
    {
     "name": "stdout",
     "output_type": "stream",
     "text": [
      "7.51 μs ± 193 ns per loop (mean ± std. dev. of 7 runs, 100,000 loops each)\n"
     ]
    }
   ],
   "source": [
    "%%timeit\n",
    "#Fixed deposit 10,000 per month\n",
    "#5% annual interest rate\n",
    "#Compound interest by month\n",
    "#How long to reach 1,000,000\n",
    "\n",
    "#Using while loop\n",
    "\n",
    "mula=0\n",
    "month=0\n",
    "\n",
    "while mula<=100:\n",
    "    mula+=1\n",
    "    mula*=0.05/12+1\n",
    "    month+=1\n",
    "    \n",
    "#print(f'have to be {month} month')"
   ]
  },
  {
   "cell_type": "code",
   "execution_count": 204,
   "id": "e9991812-1295-4123-ab60-14df61956271",
   "metadata": {},
   "outputs": [
    {
     "name": "stdout",
     "output_type": "stream",
     "text": [
      "The largest of the number is 30\n"
     ]
    }
   ],
   "source": [
    "x=20;y=10;z=30;\n",
    "\n",
    "#n=sorted([x,y,z],reverse=True)[0] 慢\n",
    "n=max([x,y,z]) # 快一點\n",
    "\n",
    "print(f'The largest of the number is {n}')"
   ]
  },
  {
   "cell_type": "code",
   "execution_count": 3,
   "id": "abdeb6ee-4ae8-4f2d-8c14-8f99f5d1d5ae",
   "metadata": {},
   "outputs": [
    {
     "name": "stdout",
     "output_type": "stream",
     "text": [
      "user@company.com\n"
     ]
    }
   ],
   "source": [
    "data='From:User Lee (user@company.com) Sat Jan 5 09:14:16 2016'\n",
    "print(data.split(' ')[2][1:-1])"
   ]
  },
  {
   "cell_type": "code",
   "execution_count": 49,
   "id": "c4c2f594-25a5-4b78-85c6-0e53f71d87d2",
   "metadata": {},
   "outputs": [
    {
     "name": "stdout",
     "output_type": "stream",
     "text": [
      "['expm1']\n"
     ]
    }
   ],
   "source": [
    "#取出math函式庫中有expm的函數，並放入序列\n",
    "import math\n",
    "\n",
    "ans=0\n",
    "for x in dir(math):\n",
    "    if 'expm' in x:\n",
    "        ans=[x]\n",
    "\n",
    "print(ans)"
   ]
  },
  {
   "cell_type": "code",
   "execution_count": 3,
   "id": "de79818f-ad5d-42e4-9838-19930d92b00c",
   "metadata": {},
   "outputs": [
    {
     "name": "stdout",
     "output_type": "stream",
     "text": [
      "c:\\temp\\back\\a1\n"
     ]
    }
   ],
   "source": [
    "# 使 print('c:\\temp\\back\\a1')印出c:\\temp\\back\\a1\n",
    "print('c:\\\\temp\\\\back\\\\a1')"
   ]
  },
  {
   "cell_type": "code",
   "execution_count": 37,
   "id": "31fbe59e-c459-4345-98f1-e8aa345c61d6",
   "metadata": {},
   "outputs": [
    {
     "name": "stdout",
     "output_type": "stream",
     "text": [
      "[0, 3]\n"
     ]
    }
   ],
   "source": [
    "# 找出10在index中的位置，使用enumerate。\n",
    "my_list=[10,20,30,10,20,30]\n",
    "my_list_out=[]\n",
    "pos=0\n",
    "# for loop start\n",
    "\n",
    "for i,data in enumerate(my_list,pos):\n",
    "    if data==10:\n",
    "        my_list_out+=[i]\n",
    "        \n",
    "# for loop end\n",
    "print(my_list_out)\n"
   ]
  },
  {
   "cell_type": "code",
   "execution_count": 55,
   "id": "1ddbf27a-b3dd-4580-bd08-cabe4147f85a",
   "metadata": {},
   "outputs": [
    {
     "name": "stdout",
     "output_type": "stream",
     "text": [
      "[0, 3]\n"
     ]
    }
   ],
   "source": [
    "# 找出10在index中的位置\n",
    "my_list=[10,20,30,10,20,30]\n",
    "my_list_out=[]\n",
    "pos=0\n",
    "# for loop start\n",
    "\n",
    "for data in my_list:\n",
    "    if data==10:\n",
    "        my_list_out+=[pos]\n",
    "    pos+=1\n",
    "\n",
    "# for loop end\n",
    "print(my_list_out)\n"
   ]
  },
  {
   "cell_type": "code",
   "execution_count": 44,
   "id": "77402492-f5ef-4555-9045-718557d954dc",
   "metadata": {},
   "outputs": [
    {
     "name": "stdout",
     "output_type": "stream",
     "text": [
      "579 μs ± 41.1 μs per loop (mean ± std. dev. of 7 runs, 1,000 loops each)\n"
     ]
    }
   ],
   "source": [
    "%%timeit\n",
    "#閏年tuple solution medium\n",
    "tuple_year=()\n",
    "# for loop start\n",
    "for d in range(1,2021):\n",
    "    if(not d%4 and d%100) or not d%4:\n",
    "        tuple_year+=(d,)\n",
    "#for loop end\n",
    "#print(tuple_year)"
   ]
  },
  {
   "cell_type": "code",
   "execution_count": 45,
   "id": "efe66871-b637-4798-9a63-721c5bae7421",
   "metadata": {},
   "outputs": [
    {
     "name": "stdout",
     "output_type": "stream",
     "text": [
      "548 μs ± 6.16 μs per loop (mean ± std. dev. of 7 runs, 1,000 loops each)\n"
     ]
    }
   ],
   "source": [
    "%%timeit\n",
    "#閏年tuple solution slow\n",
    "tuple_year=()\n",
    "# for loop start\n",
    "for d in range(1,2021):\n",
    "    if(d%4==0 and d%100!=0) or d%4==0:\n",
    "        tuple_year+=(d,)\n",
    "#for loop end\n",
    "#print(tuple_year)"
   ]
  },
  {
   "cell_type": "code",
   "execution_count": 46,
   "id": "50497231-5f65-4f8c-927f-ce642b7564e8",
   "metadata": {},
   "outputs": [
    {
     "name": "stdout",
     "output_type": "stream",
     "text": [
      "190 μs ± 7.54 μs per loop (mean ± std. dev. of 7 runs, 10,000 loops each)\n"
     ]
    }
   ],
   "source": [
    "%%timeit\n",
    "#閏年list solution fast\n",
    "tuple_year=()\n",
    "list_year=[]\n",
    "# for loop start\n",
    "for d in range(1,2021):\n",
    "    if(not d%4 and d%100) or not d%4:\n",
    "        list_year+=[d]\n",
    "#for loop end\n",
    "tuple_year=tuple(list_year)\n",
    "#print(tuple_year)"
   ]
  },
  {
   "cell_type": "markdown",
   "id": "783a5f73-b866-4d28-a6b5-42b2fb4bf065",
   "metadata": {},
   "source": [
    "#### 5. 函式 Function"
   ]
  },
  {
   "cell_type": "markdown",
   "id": "afe2acf5-4bb9-4d5c-bb9e-f067f23cc08f",
   "metadata": {
    "jp-MarkdownHeadingCollapsed": true
   },
   "source": [
    "#### 5.1 stdout的return none"
   ]
  },
  {
   "cell_type": "code",
   "execution_count": 64,
   "id": "067d8aac-13c5-42c8-9ef1-5e674b6c7692",
   "metadata": {},
   "outputs": [
    {
     "name": "stdout",
     "output_type": "stream",
     "text": [
      "Hello\n"
     ]
    },
    {
     "data": {
      "text/plain": [
       "33"
      ]
     },
     "execution_count": 64,
     "metadata": {},
     "output_type": "execute_result"
    }
   ],
   "source": [
    "y=33\n",
    "ret=print('Hello') #stdout最醜\n",
    "y #notebook output筆記本優勢"
   ]
  },
  {
   "cell_type": "code",
   "execution_count": 70,
   "id": "10fbd9a2-b78f-425c-a097-3a54d6c6295e",
   "metadata": {},
   "outputs": [
    {
     "name": "stdout",
     "output_type": "stream",
     "text": [
      "None\n"
     ]
    }
   ],
   "source": [
    "print(ret) #print才有None"
   ]
  },
  {
   "cell_type": "code",
   "execution_count": 78,
   "id": "b7bd2a14-7873-4be0-8fa2-a2f185e5265b",
   "metadata": {},
   "outputs": [],
   "source": [
    "ret #直接秀沒有"
   ]
  },
  {
   "cell_type": "markdown",
   "id": "ae64273e-98f5-4e31-9111-a71218111f1b",
   "metadata": {
    "jp-MarkdownHeadingCollapsed": true
   },
   "source": [
    "#### 5.2 def function"
   ]
  },
  {
   "cell_type": "code",
   "execution_count": 93,
   "id": "a4cb0e44-9fb1-4f50-abcc-f66998ff3ff1",
   "metadata": {},
   "outputs": [
    {
     "name": "stdout",
     "output_type": "stream",
     "text": [
      "quack\n",
      "quack\n",
      "quack\n",
      "quack\n"
     ]
    }
   ],
   "source": [
    "def make_a_sound():\n",
    "    \"\"\"This function print duck sound.\"\"\" #document string一定要空四格\n",
    "    print('quack')\n",
    "\n",
    "#MAIN\n",
    "#call function\n",
    "make_a_sound()\n",
    "for _ in range(3): # 底線可以用於表達用不到的參數 e.g.tuple(_,i,_)只取第二份資料\n",
    "    make_a_sound() # 善用tab鍵呼叫tunnel"
   ]
  },
  {
   "cell_type": "code",
   "execution_count": 91,
   "id": "689003d5-f89a-4d87-85a7-453d403faf27",
   "metadata": {},
   "outputs": [
    {
     "name": "stdout",
     "output_type": "stream",
     "text": [
      "Help on function make_a_sound in module __main__:\n",
      "\n",
      "make_a_sound()\n",
      "    This function print duck sound.\n",
      "\n"
     ]
    }
   ],
   "source": [
    "help(make_a_sound) #可看到document string功用"
   ]
  },
  {
   "cell_type": "code",
   "execution_count": 96,
   "id": "90a599bf-ec37-4587-8207-f29cb85dd923",
   "metadata": {},
   "outputs": [
    {
     "name": "stdout",
     "output_type": "stream",
     "text": [
      "In function, before change: 20\n",
      "In function, after change: 50\n",
      "Outside finctoin: 20\n"
     ]
    }
   ],
   "source": [
    "# call by value重點\n",
    "def changeme(myvar):\n",
    "    print('In function, before change:', myvar)\n",
    "    myvar=50\n",
    "    print('In function, after change:', myvar)\n",
    "\n",
    "# call function\n",
    "myvar=20\n",
    "changeme(myvar)\n",
    "print('Outside finctoin:', myvar)"
   ]
  },
  {
   "cell_type": "markdown",
   "id": "bc82958c-4f4c-45ce-b8c4-ba52c5c13642",
   "metadata": {
    "jp-MarkdownHeadingCollapsed": true
   },
   "source": [
    "#### 5.3 傳參數法"
   ]
  },
  {
   "cell_type": "markdown",
   "id": "308b115b-567a-40e5-a98b-0d509339bf29",
   "metadata": {
    "jp-MarkdownHeadingCollapsed": true
   },
   "source": [
    "#### 5.3.1 位置引數(Positional Argument=actual parameter)"
   ]
  },
  {
   "cell_type": "code",
   "execution_count": 22,
   "id": "717e4d19-2644-411b-afdd-8016fab22923",
   "metadata": {},
   "outputs": [],
   "source": [
    "#其資料型態先後順序要固定，eg:(string,int,float)"
   ]
  },
  {
   "cell_type": "code",
   "execution_count": 34,
   "id": "184a08fb-9b26-4c75-a7a3-7fa947da98de",
   "metadata": {},
   "outputs": [
    {
     "name": "stdout",
     "output_type": "stream",
     "text": [
      "Area = 200\n"
     ]
    }
   ],
   "source": [
    "#計算面積\n",
    "# Function Defenition\n",
    "def area(length,width):\n",
    "    return(length*width)\n",
    "\n",
    "# MAIN\n",
    "result=area(10,20)\n",
    "print('Area =', result)"
   ]
  },
  {
   "cell_type": "markdown",
   "id": "f9bfeec7-d64f-423e-aec2-8ff4245ae9a0",
   "metadata": {
    "jp-MarkdownHeadingCollapsed": true
   },
   "source": [
    "#### 5.3.2 關鍵字引述 (Keyword Argument)"
   ]
  },
  {
   "cell_type": "code",
   "execution_count": 36,
   "id": "5f75a5c3-7049-435c-a2cf-68b0b55a3ec8",
   "metadata": {},
   "outputs": [],
   "source": [
    "#call(int=123,string='abc') 呼叫可自訂順序，所以寫的時候要空4格\"\"\""
   ]
  },
  {
   "cell_type": "code",
   "execution_count": 52,
   "id": "ddf2350a-924d-471d-a538-955d026454c4",
   "metadata": {},
   "outputs": [
    {
     "name": "stdout",
     "output_type": "stream",
     "text": [
      "Name: Alex\n",
      "Age: 20\n",
      "Name: Stvn\n",
      "Age: 21\n"
     ]
    }
   ],
   "source": [
    "# Positional vs Keyword Argument\n",
    "# function defenition\n",
    "def printinfo(name,age):\n",
    "    print('Name:', name)\n",
    "    print('Age:', age)\n",
    "\n",
    "# call function\n",
    "printinfo('Alex',20)\n",
    "printinfo(age=21,name='Stvn')"
   ]
  },
  {
   "cell_type": "code",
   "execution_count": 46,
   "id": "cca7df34-ba91-4da2-98c7-5e1c55005cbd",
   "metadata": {},
   "outputs": [
    {
     "name": "stdout",
     "output_type": "stream",
     "text": [
      "Name: Harris\n",
      "Age 40\n",
      "Name: Mary\n",
      "Age 20\n"
     ]
    }
   ],
   "source": [
    "%run /Users/alex/desktop/code/lab_codes/mod14/keyword_arg.py"
   ]
  },
  {
   "cell_type": "markdown",
   "id": "ab0e7f75-d84e-4a1c-858d-881996f1493e",
   "metadata": {
    "jp-MarkdownHeadingCollapsed": true
   },
   "source": [
    "#### 5.3.3 預設引述(Default Argument)"
   ]
  },
  {
   "cell_type": "code",
   "execution_count": 50,
   "id": "4ee9d9ee-1c0e-46da-a3ef-0ec906e1a9fb",
   "metadata": {},
   "outputs": [],
   "source": [
    "#(Position,Position,Default)"
   ]
  },
  {
   "cell_type": "code",
   "execution_count": 58,
   "id": "42ca4182-5627-4c81-9b69-fc820af78c02",
   "metadata": {},
   "outputs": [
    {
     "name": "stdout",
     "output_type": "stream",
     "text": [
      "Name: Alex\n",
      "Age: N/A\n",
      "Name: Stvn\n",
      "Age: 21\n"
     ]
    }
   ],
   "source": [
    "# function defenition\n",
    "def printinfo(name,age='N/A'):\n",
    "    print('Name:', name)\n",
    "    print('Age:', age)\n",
    "\n",
    "# call function\n",
    "printinfo('Alex')\n",
    "printinfo(age=21,name='Stvn')"
   ]
  },
  {
   "cell_type": "markdown",
   "id": "eccec458-daef-4431-9b62-4ece8218c3ef",
   "metadata": {
    "jp-MarkdownHeadingCollapsed": true
   },
   "source": [
    "#### 5.3.4 不固定個數引述(*Arbitrary Argument)"
   ]
  },
  {
   "cell_type": "code",
   "execution_count": 65,
   "id": "f7ea0f61-ab0e-482f-9456-2e04d4788eaf",
   "metadata": {},
   "outputs": [
    {
     "name": "stdout",
     "output_type": "stream",
     "text": [
      "Output:\n",
      "First_ 8\n",
      "Output:\n",
      "First_ 7\n",
      "4\n",
      "3\n"
     ]
    }
   ],
   "source": [
    "# function definition\n",
    "def printinfo2(arg1,*var):\n",
    "    print('Output:')\n",
    "    print('First_',arg1)\n",
    "    for i in var:\n",
    "        print(i)\n",
    "\n",
    "# call definition\n",
    "printinfo2(8)\n",
    "printinfo2(7,4,3)"
   ]
  },
  {
   "cell_type": "markdown",
   "id": "68ecb437-7705-484e-a19d-838c0f053df8",
   "metadata": {},
   "source": [
    "#### 5.3.5混合(Python3.8後)"
   ]
  },
  {
   "cell_type": "markdown",
   "id": "f30470f3-273a-4156-8087-5ddbbd326bd1",
   "metadata": {
    "jp-MarkdownHeadingCollapsed": true
   },
   "source": [
    "#### 5.4 匿名Function Lambda Anonymous(臨時不重複在用)"
   ]
  },
  {
   "cell_type": "code",
   "execution_count": 77,
   "id": "503a6f63-4ab9-4062-a813-0f8143b7ef15",
   "metadata": {
    "scrolled": true
   },
   "outputs": [
    {
     "data": {
      "text/plain": [
       "<function __main__.<lambda>(x, y)>"
      ]
     },
     "execution_count": 77,
     "metadata": {},
     "output_type": "execute_result"
    }
   ],
   "source": [
    "sum_data=lambda x,y: x+y\n",
    "sum_data #指到code segment區塊\n",
    "#記憶體=資料區塊（data segment,stack）＋程式碼區塊(code segment)"
   ]
  },
  {
   "cell_type": "markdown",
   "id": "eb268b42-0c8c-486f-9a09-d38a2e5f5efc",
   "metadata": {
    "jp-MarkdownHeadingCollapsed": true
   },
   "source": [
    "#### 6. 模組module"
   ]
  },
  {
   "cell_type": "code",
   "execution_count": 128,
   "id": "0dbe414a-b246-4bcf-8e8f-f0ac318271cc",
   "metadata": {},
   "outputs": [],
   "source": [
    "#import module as 縮寫 (全模組)\n",
    "#from module縮寫 import function\n",
    "#call: module縮寫.function(argument)"
   ]
  },
  {
   "cell_type": "markdown",
   "id": "721908d9-7785-4ec9-9410-9d26e1d6e1d6",
   "metadata": {},
   "source": [
    "#### 6.1 Aiot系統變數"
   ]
  },
  {
   "cell_type": "markdown",
   "id": "c9c600d2-de02-4435-a7ae-c7320e836792",
   "metadata": {
    "jp-MarkdownHeadingCollapsed": true
   },
   "source": [
    "#### 7.1錯誤errors"
   ]
  },
  {
   "cell_type": "code",
   "execution_count": 136,
   "id": "ec061c62-9ae4-4fcc-b754-e135e704de83",
   "metadata": {},
   "outputs": [],
   "source": [
    "#語法錯誤"
   ]
  },
  {
   "cell_type": "markdown",
   "id": "cce4f881-b33c-46eb-8339-0b3431a2780c",
   "metadata": {},
   "source": [
    "#### 7.2異常exceptions(先後順序)"
   ]
  },
  {
   "cell_type": "code",
   "execution_count": 146,
   "id": "d15fab6b-e201-4902-8a8b-651deaa387d2",
   "metadata": {},
   "outputs": [],
   "source": [
    "#try: \n",
    "#    stmt沒問題執行else,finally\n",
    "#    ...\n",
    "#except Exception1:有攔到執行else,finally繼續跑\n",
    "#    if\n",
    "#except Exception2:沒攔到執行finally拋出try(raise,throw)\n",
    "#    if\n",
    "#    ...\n",
    "#else:\n",
    "#    ...\n",
    "#finally:\n",
    "#    ..."
   ]
  },
  {
   "cell_type": "code",
   "execution_count": 168,
   "id": "c193b50c-c615-43c3-8b5d-31fd8c2e3920",
   "metadata": {},
   "outputs": [
    {
     "name": "stdin",
     "output_type": "stream",
     "text": [
      "Input 2 numbers(x,y) 5,0\n"
     ]
    },
    {
     "name": "stdout",
     "output_type": "stream",
     "text": [
      "ZERODIVISIONERROR division by zero\n",
      "tryagain\n"
     ]
    }
   ],
   "source": [
    "try:\n",
    "    x,y=eval(input('Input 2 numbers(x,y)'))\n",
    "    print('x/y=',x/y)\n",
    "\n",
    "except SyntaxError as err:\n",
    "    print('SYNTAXERROR',err)\n",
    "except ZeroDivisionError as err2:\n",
    "    print('ZERODIVISIONERROR',err2)\n",
    "except:\n",
    "    print('ITPUTERROR')\n",
    "\n",
    "else:\n",
    "    print('finished')\n",
    "finally:\n",
    "    print('tryagain')"
   ]
  },
  {
   "cell_type": "markdown",
   "id": "e11448ee-1f50-4263-b4f3-25e5f5d59533",
   "metadata": {},
   "source": [
    "#### 8. 檔案io(java)開檔出問題異常處理"
   ]
  },
  {
   "cell_type": "code",
   "execution_count": 178,
   "id": "168e78aa-8343-45fd-b40c-503f4662da45",
   "metadata": {},
   "outputs": [],
   "source": [
    "#open>read>write要自己換行\\n>close\n",
    "#開檔一定要攔截且fp.close()不然關不了檔案一定出問題\n",
    "#python可用with暫時帶入，包含異常處理"
   ]
  }
 ],
 "metadata": {
  "kernelspec": {
   "display_name": "Python 3 (ipykernel)",
   "language": "python",
   "name": "python3"
  },
  "language_info": {
   "codemirror_mode": {
    "name": "ipython",
    "version": 3
   },
   "file_extension": ".py",
   "mimetype": "text/x-python",
   "name": "python",
   "nbconvert_exporter": "python",
   "pygments_lexer": "ipython3",
   "version": "3.12.4"
  }
 },
 "nbformat": 4,
 "nbformat_minor": 5
}
