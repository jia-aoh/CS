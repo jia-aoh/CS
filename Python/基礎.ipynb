{
 "cells": [
  {
   "cell_type": "markdown",
   "id": "6b9d542f-1657-4cd0-b492-424b32c6a28a",
   "metadata": {
    "jp-MarkdownHeadingCollapsed": true
   },
   "source": [
    "#### 1.1 Arithmetic Operators"
   ]
  },
  {
   "cell_type": "code",
   "execution_count": 289,
   "id": "2b2b52d4-a874-4ca4-bb78-3f97499e1fcd",
   "metadata": {},
   "outputs": [
    {
     "data": {
      "text/plain": [
       "(12, 28, -160, -2.5, -3, -4, 3.90625e-11, -2.0)"
      ]
     },
     "execution_count": 289,
     "metadata": {},
     "output_type": "execute_result"
    }
   ],
   "source": [
    "#int/int=float\n",
    "a,b,c=20,-8,4\n",
    "a+b,a-b,a*b,a/b,a//b,a%b,a**b,b/c"
   ]
  },
  {
   "cell_type": "markdown",
   "id": "d27ac6d9-9495-43da-81d6-0d84de47d285",
   "metadata": {
    "jp-MarkdownHeadingCollapsed": true
   },
   "source": [
    "#### 1.2 Assignment Operators"
   ]
  },
  {
   "cell_type": "code",
   "execution_count": 291,
   "id": "14ed18b6-8940-4a64-98b9-7bb4967d3e50",
   "metadata": {},
   "outputs": [
    {
     "data": {
      "text/plain": [
       "(28, 12, 160, 2.5, 4, 25600000000, 2)"
      ]
     },
     "execution_count": 291,
     "metadata": {},
     "output_type": "execute_result"
    }
   ],
   "source": [
    "a,b,c,d,e,f,g,h=8,20,20,20,20,20,20,20\n",
    "#10=='10'比較記憶體空間是否相同\n",
    "b+=a #a++就是a+=1\n",
    "c-=a\n",
    "d*=a\n",
    "e/=a\n",
    "f%=a\n",
    "g**=a\n",
    "h//=a\n",
    "b,c,d,e,f,g,h"
   ]
  },
  {
   "cell_type": "markdown",
   "id": "d363550b-03cf-4883-9992-091de2aa7468",
   "metadata": {
    "jp-MarkdownHeadingCollapsed": true
   },
   "source": [
    "#### 1.3 Comparison (Relational) Operators"
   ]
  },
  {
   "cell_type": "code",
   "execution_count": 146,
   "id": "6564abb8-64ce-4633-b735-0c04796db317",
   "metadata": {},
   "outputs": [
    {
     "data": {
      "text/plain": [
       "(True, True, True, True)"
      ]
     },
     "execution_count": 146,
     "metadata": {},
     "output_type": "execute_result"
    }
   ],
   "source": [
    "a==8,2<a!=3,8>=a>2,a<=8"
   ]
  },
  {
   "cell_type": "markdown",
   "id": "e5a3cdda-615f-430b-a188-038af4862fe4",
   "metadata": {
    "jp-MarkdownHeadingCollapsed": true
   },
   "source": [
    "#### 1.4 Logical Operators (Boolean Operators)"
   ]
  },
  {
   "cell_type": "code",
   "execution_count": 293,
   "id": "a9809776-f462-4f24-9675-e994bb7379dd",
   "metadata": {},
   "outputs": [
    {
     "data": {
      "text/plain": [
       "(True, True, False, False, True)"
      ]
     },
     "execution_count": 293,
     "metadata": {},
     "output_type": "execute_result"
    }
   ],
   "source": [
    "#or前0讀後,and前1讀後\n",
    "#java:&&,||,!\n",
    "t,f=True,False\n",
    "t or f,f or t,f or f,t and f,not (f and t)"
   ]
  },
  {
   "cell_type": "code",
   "execution_count": 303,
   "id": "1f9061b2-868e-4ed8-a096-630962600349",
   "metadata": {},
   "outputs": [
    {
     "data": {
      "text/plain": [
       "(True, True)"
      ]
     },
     "execution_count": 303,
     "metadata": {},
     "output_type": "execute_result"
    }
   ],
   "source": [
    "#True是偶數\n",
    "#單一運算比二元運算快 % vs %==\n",
    "x=22\n",
    "not x%2,x%2==0"
   ]
  },
  {
   "cell_type": "code",
   "execution_count": 407,
   "id": "8f9893d5-6274-4841-99d1-7345083f3e2e",
   "metadata": {},
   "outputs": [
    {
     "name": "stdout",
     "output_type": "stream",
     "text": [
      "38.1 ns ± 1.32 ns per loop (mean ± std. dev. of 7 runs, 10,000,000 loops each)\n"
     ]
    }
   ],
   "source": [
    "%%timeit #Magic&&timeit運算速度 s=1000ms, ms=1000us, us=1000ns\n",
    "x=22\n",
    "not x%2"
   ]
  },
  {
   "cell_type": "markdown",
   "id": "bf6c435d-d748-4338-a2b8-09b453d402b3",
   "metadata": {
    "jp-MarkdownHeadingCollapsed": true
   },
   "source": [
    "#### 1.5 Identity Operators"
   ]
  },
  {
   "cell_type": "code",
   "execution_count": 245,
   "id": "38913ab5-3938-47fb-b8f7-66c3c0a2c9a6",
   "metadata": {},
   "outputs": [
    {
     "data": {
      "text/plain": [
       "(True, False, True)"
      ]
     },
     "execution_count": 245,
     "metadata": {},
     "output_type": "execute_result"
    }
   ],
   "source": [
    "a,b,c=1,1,2\n",
    "a is b,a is c,a is not c"
   ]
  },
  {
   "attachments": {},
   "cell_type": "markdown",
   "id": "c2622871-d73f-4d34-8840-0ccf652bc1ce",
   "metadata": {},
   "source": [
    "#### 1.6 Bitwise Operators\n",
    "\n"
   ]
  },
  {
   "cell_type": "markdown",
   "id": "47f0c295-4fcf-4b53-849b-045b36431681",
   "metadata": {
    "jp-MarkdownHeadingCollapsed": true
   },
   "source": [
    "#### 1.7 Membership Operators"
   ]
  },
  {
   "cell_type": "code",
   "execution_count": 405,
   "id": "4a5566fd-bc03-4597-a220-3822e5f4d0c1",
   "metadata": {},
   "outputs": [
    {
     "data": {
      "text/plain": [
       "(True, False)"
      ]
     },
     "execution_count": 405,
     "metadata": {},
     "output_type": "execute_result"
    }
   ],
   "source": [
    "mystr='123456789'\n",
    "'1'in mystr,'1'not in mystr"
   ]
  },
  {
   "cell_type": "markdown",
   "id": "f3c63b68-06c9-466b-8b66-9eaa27a44239",
   "metadata": {
    "jp-MarkdownHeadingCollapsed": true
   },
   "source": [
    "#### 3.資料型態"
   ]
  },
  {
   "cell_type": "code",
   "execution_count": 283,
   "id": "50ef0f79-b78b-4c14-a9b8-3e1e328b2e85",
   "metadata": {},
   "outputs": [
    {
     "data": {
      "text/plain": [
       "(4405331608, int, float, str)"
      ]
     },
     "execution_count": 283,
     "metadata": {},
     "output_type": "execute_result"
    }
   ],
   "source": [
    "#object=identity,type,value\n",
    "a,b,c=8,9.0,'John'\n",
    "id(a),type(a),type(b),type(c)"
   ]
  },
  {
   "cell_type": "markdown",
   "id": "4efb858b-e708-4a22-a1d4-1c5128d71296",
   "metadata": {
    "jp-MarkdownHeadingCollapsed": true
   },
   "source": [
    "#### 3.1 numeric(int,float,complex,boolean)沒順序不可改變"
   ]
  },
  {
   "cell_type": "code",
   "execution_count": 323,
   "id": "77d58581-3f48-45b0-a8e6-7bb610191fa3",
   "metadata": {},
   "outputs": [
    {
     "data": {
      "text/plain": [
       "(3, 9, 31, 0.101, '00011111', '37', '1f')"
      ]
     },
     "execution_count": 323,
     "metadata": {},
     "output_type": "execute_result"
    }
   ],
   "source": [
    "#bianry,octal,hexadecimal,科學記號\n",
    "0b11,0o11,0x1f,10.1e-2,f'{31:08b}',f'{31:o}',f'{31:x}' "
   ]
  },
  {
   "cell_type": "code",
   "execution_count": 170,
   "id": "f3c923a7-5315-4939-a0d3-5032c0f3bf50",
   "metadata": {},
   "outputs": [
    {
     "data": {
      "text/plain": [
       "('1.414214', '1.414214', '1.414213', 4964226672, 4964224368, str, str)"
      ]
     },
     "execution_count": 170,
     "metadata": {},
     "output_type": "execute_result"
    }
   ],
   "source": [
    "#a,b四捨五入至float後6位，並為str格式,c無條件捨去\n",
    "a,b,c=f'{2**0.5:6f}',f'{2**0.5:.6f}',str(2**0.5)[:8]\n",
    "a,b,c,id(a),id(b),type(a),type(b)"
   ]
  },
  {
   "cell_type": "code",
   "execution_count": 339,
   "id": "61712580-7843-44e8-9afd-55fbedfdf900",
   "metadata": {},
   "outputs": [
    {
     "data": {
      "text/plain": [
       "'Area of a Trapezoid is 120 square cetemeter.'"
      ]
     },
     "execution_count": 339,
     "metadata": {},
     "output_type": "execute_result"
    }
   ],
   "source": [
    "up,down,height=10,20,8\n",
    "area=(up+down)*height/2\n",
    "f'Area of a Trapezoid is {int(area)} square cetemeter.'"
   ]
  },
  {
   "cell_type": "markdown",
   "id": "fc9ae368-75ae-4d0f-a512-22b36ba033db",
   "metadata": {
    "jp-MarkdownHeadingCollapsed": true
   },
   "source": [
    "#### 3.2 Text Sequence 有順序不可改變"
   ]
  },
  {
   "cell_type": "markdown",
   "id": "9a7a839a-9471-464d-bfa8-28be74c3c5b8",
   "metadata": {
    "jp-MarkdownHeadingCollapsed": true
   },
   "source": [
    "#### 3.2.1 Index, Slice, Raw String"
   ]
  },
  {
   "cell_type": "code",
   "execution_count": 431,
   "id": "e7607262-e5ea-4fc9-ac95-869aa4e80da8",
   "metadata": {},
   "outputs": [
    {
     "data": {
      "text/plain": [
       "('3',\n",
       " '7',\n",
       " '35',\n",
       " '3456789',\n",
       " '123456',\n",
       " '123456',\n",
       " 9,\n",
       " '1',\n",
       " '2',\n",
       " '3',\n",
       " '4',\n",
       " '5',\n",
       " '6',\n",
       " '7',\n",
       " '8',\n",
       " '9')"
      ]
     },
     "execution_count": 431,
     "metadata": {},
     "output_type": "execute_result"
    }
   ],
   "source": [
    "#index[x],slice[含:不含]\n",
    "#len()長度\n",
    "nbs='123456789'\n",
    "nbs[2],nbs[-3],nbs[2:-3:2],nbs[2:],nbs[:6],nbs[:-3],len(nbs),*nbs #unpack*"
   ]
  },
  {
   "cell_type": "code",
   "execution_count": 423,
   "id": "423813f4-7cc5-45d1-aec6-2818f5852040",
   "metadata": {},
   "outputs": [
    {
     "name": "stdout",
     "output_type": "stream",
     "text": [
      "1\\t\\n6\n"
     ]
    },
    {
     "data": {
      "text/plain": [
       "'\\\\t\\\\'"
      ]
     },
     "execution_count": 423,
     "metadata": {},
     "output_type": "execute_result"
    }
   ],
   "source": [
    "#Raw string用於regular expression\n",
    "a=r'1\\t\\n6'\n",
    "print(a)\n",
    "a[1:4] #\\ is shown as a \\\\ i interative mode "
   ]
  },
  {
   "cell_type": "code",
   "execution_count": 425,
   "id": "dace0991-148f-419b-9bd3-d549ae7e65c1",
   "metadata": {},
   "outputs": [
    {
     "ename": "NameError",
     "evalue": "name 'nbs' is not defined",
     "output_type": "error",
     "traceback": [
      "\u001b[0;31m---------------------------------------------------------------------------\u001b[0m",
      "\u001b[0;31mNameError\u001b[0m                                 Traceback (most recent call last)",
      "Cell \u001b[0;32mIn[425], line 2\u001b[0m\n\u001b[1;32m      1\u001b[0m \u001b[38;5;66;03m#text cannot be assigned\u001b[39;00m\n\u001b[0;32m----> 2\u001b[0m \u001b[38;5;28;01mdel\u001b[39;00m nbs \u001b[38;5;66;03m#del=bash's unset\u001b[39;00m\n\u001b[1;32m      3\u001b[0m nbs\u001b[38;5;241m=\u001b[39m\u001b[38;5;124m'\u001b[39m\u001b[38;5;124m123456\u001b[39m\u001b[38;5;124m'\u001b[39m\n\u001b[1;32m      4\u001b[0m nbs[\u001b[38;5;241m0\u001b[39m]\u001b[38;5;241m=\u001b[39m\u001b[38;5;124m'\u001b[39m\u001b[38;5;124m2\u001b[39m\u001b[38;5;124m'\u001b[39m\n",
      "\u001b[0;31mNameError\u001b[0m: name 'nbs' is not defined"
     ]
    }
   ],
   "source": [
    "#text cannot be assigned\n",
    "del nbs #del=bash's unset\n",
    "nbs='123456'\n",
    "nbs[0]='2'"
   ]
  },
  {
   "cell_type": "markdown",
   "id": "e91bdb0e-c217-4f08-b36c-2f82d374fdde",
   "metadata": {
    "jp-MarkdownHeadingCollapsed": true
   },
   "source": [
    "#### 3.2.2 Text Methods"
   ]
  },
  {
   "cell_type": "code",
   "execution_count": 85,
   "id": "b04648a5-5727-4ff0-b9ce-42f31b9b5756",
   "metadata": {},
   "outputs": [
    {
     "data": {
      "text/plain": [
       "('(ABCD.EFGH.TXT)', '(abcd.efgh.txt)', ['ABcd.EFgh'])"
      ]
     },
     "execution_count": 85,
     "metadata": {},
     "output_type": "execute_result"
    }
   ],
   "source": [
    "#字串 method\n",
    "#.split,rsplit('',maxsplit=x)[index or slice],keyword argument取檔名\n",
    "#.strip,rstrip('')預設消除空格\n",
    "#.isalpha文.isdigit數.isalnum文數.isspace空白' ','\\t','\\v'\n",
    "#function:len(),sum()... vs method:object.upper(有點運算子)\n",
    "#c to c++:沒class to物件導向\n",
    "a='(ABcd.EFgh.txt)'\n",
    "a.upper(),a.lower(),a[1:-1].rsplit('.',maxsplit=1)[:-1]#slice去括號"
   ]
  },
  {
   "cell_type": "markdown",
   "id": "a3af372d-56ab-44d5-b117-747383882c1f",
   "metadata": {
    "jp-MarkdownHeadingCollapsed": true
   },
   "source": [
    "#### 3.3 Sequence [List], (Tuple), {Dict} Range and method"
   ]
  },
  {
   "cell_type": "code",
   "execution_count": 2,
   "id": "08bd47e2-20f6-45ff-bb2e-056b3ce36289",
   "metadata": {},
   "outputs": [
    {
     "name": "stdout",
     "output_type": "stream",
     "text": [
      "[0, 1, 2, 3, 4, 5, 6, 7, 8, 9]\n",
      "(0, 1, 2, 3, 4, 5, 6, 7, 8, 9)\n"
     ]
    }
   ],
   "source": [
    "#range =java method overloading,arange,numpy\n",
    "#lazy evaluation:需要的時候再執行\n",
    "range(10)\n",
    "print(list(range(10))) # []\n",
    "print(tuple(range(10))) # ()"
   ]
  },
  {
   "cell_type": "markdown",
   "id": "113482ce-883a-4d03-86be-01313b4abd69",
   "metadata": {
    "jp-MarkdownHeadingCollapsed": true
   },
   "source": [
    "#### 3.3.1.1 List 有順序可以改變"
   ]
  },
  {
   "cell_type": "code",
   "execution_count": 127,
   "id": "ec28880c-eb4b-43de-a29a-fb1a47255ccb",
   "metadata": {},
   "outputs": [
    {
     "name": "stdout",
     "output_type": "stream",
     "text": [
      "4980767040 4450778776\n",
      "[100, 10, 300, 100, 10, 300, 100, 10, 300]\n",
      "4980767040 4450772696\n",
      "3\n",
      "[100, 10, 300, [1, 2, 3]]\n",
      "100,10,300,[1, 2, 3],"
     ]
    }
   ],
   "source": [
    "lst=[100,200,300] # list可當c的array\n",
    "print(id(lst),id(lst[1]))\n",
    "lst[1]=10 # [0,1,2]\n",
    "print(lst*3) #使list重複3次\n",
    "print(id(lst),id(lst[1])) # list id不變，但數字id變\n",
    "print(len(lst))\n",
    "lst2=lst+[[1,2,3]] # list+list *aiot的numpy陣列相加會是[1,2,3]+[4,5,6]=[5,7,9]\n",
    "print(lst2)\n",
    "lst2[3][2] # list of list\n",
    "for x in lst2:\n",
    "    print(x,end=',')"
   ]
  },
  {
   "cell_type": "code",
   "execution_count": 121,
   "id": "72a8ec7f-8006-4166-86d0-d7b6dc364558",
   "metadata": {},
   "outputs": [
    {
     "name": "stdout",
     "output_type": "stream",
     "text": [
      "四 az\n",
      "[19, 17, 15, 13, 11, 9, 7, 5, 3, 1] 100\n"
     ]
    }
   ],
   "source": [
    "#max()min()sorted(,reverse=True),sum(),list()\n",
    "lst=['az','c','d','za','四'] # 中文用utf-8編碼：要扣function轉\n",
    "print(max(lst),min(lst))\n",
    "num=sorted(list((range(1,20,2))),reverse=True)\n",
    "print(num,sum(num))"
   ]
  },
  {
   "cell_type": "markdown",
   "id": "86f9e3c8-5abc-40c5-8fe1-ff77fccba405",
   "metadata": {
    "jp-MarkdownHeadingCollapsed": true
   },
   "source": [
    "#### 3.3.1.2 List Method"
   ]
  },
  {
   "cell_type": "code",
   "execution_count": 3,
   "id": "b2a05610-9cad-4104-93b4-763c5f79bcc1",
   "metadata": {},
   "outputs": [
    {
     "data": {
      "text/plain": [
       "[4, 5, 6, 5, 3, 4, 3, 7, 7, 8, 9, 7]"
      ]
     },
     "execution_count": 3,
     "metadata": {},
     "output_type": "execute_result"
    }
   ],
   "source": [
    "#method:list.append().clear()=del s[:].count().copy()=d s[:]\n",
    "lst=[4,5,6,5,3,4,3]\n",
    "lst2=[7,7,8,9,7]\n",
    "#lst.count(4) 有幾個4\n",
    "#lst.append(2) 加2在字串最後\n",
    "#del lst[:] #lst.clear()\n",
    "#d=lst[:] #lst.copy()\n",
    "lst.extend(lst2) #combine list=a+=b\n",
    "#lst.index() 讀取元素在第幾位\n",
    "#lst.insert(,)插入要再試\n",
    "#lst.pop(1) 移除元素預設-1\n",
    "#lst.remove() 移除()中元素\n",
    "#lst.reverse() 反轉，會真的改變list\n",
    "#lst.sort([func]) 依func排序list\n",
    "lst"
   ]
  },
  {
   "cell_type": "markdown",
   "id": "af9a7e0c-58d8-4532-888c-78eaffdd5801",
   "metadata": {
    "jp-MarkdownHeadingCollapsed": true
   },
   "source": [
    "#### 3.3.1.3 List Comprehension"
   ]
  },
  {
   "cell_type": "code",
   "execution_count": 62,
   "id": "e9c99bc3-396e-4375-a5e3-9a9be6942ecd",
   "metadata": {},
   "outputs": [
    {
     "data": {
      "text/plain": [
       "([0, 1, 4, 9, 16, 25, 36, 49, 64, 81],\n",
       " [1, 2, 4, 8, 16, 32, 64, 128, 256, 512, 1024],\n",
       " [0, 4, 16, 36, 64])"
      ]
     },
     "execution_count": 62,
     "metadata": {},
     "output_type": "execute_result"
    }
   ],
   "source": [
    "# s={x**2:x in{0-9}}\n",
    "# v=(1,2,4,8,...,2**10)\n",
    "# m={x|x in s and x even}\n",
    "s=[x**2 for x in range(10)]\n",
    "v=[2**n for n in range(11)]\n",
    "m=[x for x in s if not x%2]\n",
    "s,v,m"
   ]
  },
  {
   "cell_type": "markdown",
   "id": "6728ec23-f001-4f37-b96c-3efb04451b4b",
   "metadata": {
    "jp-MarkdownHeadingCollapsed": true
   },
   "source": [
    "#### 3.3.2 Tuple 一元陣列，交換 有順序不能改變 (50,)vs(50)tuple,int"
   ]
  },
  {
   "cell_type": "code",
   "execution_count": 9,
   "id": "b0a68ef9-76ea-4453-8e54-bad051ba030e",
   "metadata": {},
   "outputs": [
    {
     "data": {
      "text/plain": [
       "(int, tuple)"
      ]
     },
     "execution_count": 9,
     "metadata": {},
     "output_type": "execute_result"
    }
   ],
   "source": [
    "tpl=(50) # 一元陣列\n",
    "tpl2=(50,)\n",
    "type(tpl),type(tpl2)"
   ]
  },
  {
   "cell_type": "code",
   "execution_count": 15,
   "id": "7f6fcd4d-1548-4393-b5b1-4b03a3875626",
   "metadata": {},
   "outputs": [
    {
     "data": {
      "text/plain": [
       "(10, 5)"
      ]
     },
     "execution_count": 15,
     "metadata": {},
     "output_type": "execute_result"
    }
   ],
   "source": [
    "#python的交換swap\n",
    "a,b=5,10\n",
    "a,b=b,a\n",
    "a,b"
   ]
  },
  {
   "cell_type": "code",
   "execution_count": 25,
   "id": "8d5db76d-689b-4a22-abe7-3a5b6904236c",
   "metadata": {},
   "outputs": [
    {
     "data": {
      "text/plain": [
       "(5, 10)"
      ]
     },
     "execution_count": 25,
     "metadata": {},
     "output_type": "execute_result"
    }
   ],
   "source": [
    "#java 交換\n",
    "a,b=5,10\n",
    "swap(a,b)\n",
    "\n",
    "def swap(x,y):\n",
    "    tmp=x\n",
    "    x=y\n",
    "    y=tmp\n",
    "\n",
    "a,b"
   ]
  },
  {
   "cell_type": "code",
   "execution_count": 36,
   "id": "8a20d11d-1f39-4dd1-9e72-06bbe6b3f6e4",
   "metadata": {},
   "outputs": [
    {
     "data": {
      "text/plain": [
       "[3, 4, 5]"
      ]
     },
     "execution_count": 36,
     "metadata": {},
     "output_type": "execute_result"
    }
   ],
   "source": [
    "sorted((5,4,3)) # 產生的是List"
   ]
  },
  {
   "cell_type": "code",
   "execution_count": 46,
   "id": "95307e09-e17d-45ad-a3e9-8b049488d30e",
   "metadata": {},
   "outputs": [
    {
     "data": {
      "text/plain": [
       "('a', 'p', 'p', 'l', 'e')"
      ]
     },
     "execution_count": 46,
     "metadata": {},
     "output_type": "execute_result"
    }
   ],
   "source": [
    "tuple('apple') # 將資料轉成tuple"
   ]
  },
  {
   "cell_type": "markdown",
   "id": "9c77a318-21a0-4092-b8c4-d2e855cd5991",
   "metadata": {
    "jp-MarkdownHeadingCollapsed": true
   },
   "source": [
    "#### 3.3.3.1 Dict 沒有順序可以改變 {}空字典"
   ]
  },
  {
   "cell_type": "code",
   "execution_count": 121,
   "id": "8fb42600-f3e5-4113-b69d-7bbc775ec837",
   "metadata": {},
   "outputs": [
    {
     "data": {
      "text/plain": [
       "(True, False)"
      ]
     },
     "execution_count": 121,
     "metadata": {},
     "output_type": "execute_result"
    }
   ],
   "source": [
    "d1={'name':'mary','age':'22','gender':'female'}\n",
    "d2={'age':'22','gender':'female','name':'mary'}\n",
    "d1==d2,d1 is d2 # is 看記憶體搞不好相同"
   ]
  },
  {
   "cell_type": "code",
   "execution_count": 123,
   "id": "0acf8c6a-ecc1-42f1-9b10-d37f2b84e30a",
   "metadata": {},
   "outputs": [
    {
     "data": {
      "text/plain": [
       "('mary', {'name': 'mary', 'age': '22', 'gender': 'female', 'star': 'A+'})"
      ]
     },
     "execution_count": 123,
     "metadata": {},
     "output_type": "execute_result"
    }
   ],
   "source": [
    "d1['star']='A+' # 可新增資料\n",
    "d1['name'],d1"
   ]
  },
  {
   "cell_type": "code",
   "execution_count": 125,
   "id": "ff4cd8b3-2ff2-4526-a60b-5a043b1a7b42",
   "metadata": {},
   "outputs": [
    {
     "data": {
      "text/plain": [
       "{'name': 'mary', 'age': '22', 'star': 'A+'}"
      ]
     },
     "execution_count": 125,
     "metadata": {},
     "output_type": "execute_result"
    }
   ],
   "source": [
    "del d1['gender']\n",
    "d1"
   ]
  },
  {
   "cell_type": "code",
   "execution_count": 139,
   "id": "593e0a5a-068f-4317-89e6-14c4c57220da",
   "metadata": {},
   "outputs": [
    {
     "data": {
      "text/plain": [
       "(67, {'id': 'A001', 'eng': [67, 53, 79], 'math': [64, 85, 75]})"
      ]
     },
     "execution_count": 139,
     "metadata": {},
     "output_type": "execute_result"
    }
   ],
   "source": [
    "# Pandas dataframe\n",
    "d1={'id':'A001','eng':[67,53,79]}\n",
    "d1['math']=[64,85,75] # 新增數學成績\n",
    "d1['eng'][0],d1"
   ]
  },
  {
   "cell_type": "code",
   "execution_count": 143,
   "id": "ccfba49f-e846-4763-af9c-b04e34134f86",
   "metadata": {},
   "outputs": [
    {
     "data": {
      "text/plain": [
       "'there is no chi in d1'"
      ]
     },
     "execution_count": 143,
     "metadata": {},
     "output_type": "execute_result"
    }
   ],
   "source": [
    "d1.get('chi','there is no chi in d1') # 若字典內沒有資料，回傳..."
   ]
  },
  {
   "cell_type": "code",
   "execution_count": 137,
   "id": "96f28deb-2890-4832-8d8f-e0a2385d2147",
   "metadata": {},
   "outputs": [
    {
     "data": {
      "text/plain": [
       "{}"
      ]
     },
     "execution_count": 137,
     "metadata": {},
     "output_type": "execute_result"
    }
   ],
   "source": [
    "d1.clear()\n",
    "d1"
   ]
  },
  {
   "cell_type": "markdown",
   "id": "e1b21876-ee18-4cab-9547-e8b7cc17c35b",
   "metadata": {
    "jp-MarkdownHeadingCollapsed": true
   },
   "source": [
    "#### 3.3.3.2 Dict comprehension"
   ]
  },
  {
   "cell_type": "code",
   "execution_count": 170,
   "id": "02ad08fb-59aa-43a0-b205-8f7a057fa151",
   "metadata": {},
   "outputs": [
    {
     "data": {
      "text/plain": [
       "{'e': 2, 'l': 1, 'r': 1, 't': 2}"
      ]
     },
     "execution_count": 170,
     "metadata": {},
     "output_type": "execute_result"
    }
   ],
   "source": [
    "x='letter'\n",
    "n={char:word.count(char) for char in set(x)}\n",
    "n"
   ]
  },
  {
   "cell_type": "markdown",
   "id": "c0988ab2-a979-4173-a755-c83dc6c72c8d",
   "metadata": {
    "jp-MarkdownHeadingCollapsed": true
   },
   "source": [
    "#### 3.3.4 Set 沒有順序可以改變，沒有重複 set()空集合"
   ]
  },
  {
   "cell_type": "code",
   "execution_count": 28,
   "id": "69eaee11-bd3b-434b-9053-c106cb9ce4f7",
   "metadata": {},
   "outputs": [
    {
     "name": "stdout",
     "output_type": "stream",
     "text": [
      "{2, 3, 7} {1, 2, 3, 5, 7, 8, 9, 21} {1, 5} {1, 21, 5, 8, 9}\n"
     ]
    }
   ],
   "source": [
    "s1={2,3,5,2,1,5,7}\n",
    "s2={2,3,8,21,9,7}\n",
    "print(s1&s2, #=s1.intersection(s2)\n",
    "      s1|s2, #=s1.union(s2)\n",
    "      s1-s2, #=s1.difference(s2)\n",
    "      s1^s2) #=s1.symmetric_difference(s2)"
   ]
  },
  {
   "cell_type": "code",
   "execution_count": 26,
   "id": "95cd2f9a-ca41-40e6-9106-d76d8656e2ea",
   "metadata": {},
   "outputs": [
    {
     "data": {
      "text/plain": [
       "{'a', 'b', 'n'}"
      ]
     },
     "execution_count": 26,
     "metadata": {},
     "output_type": "execute_result"
    }
   ],
   "source": [
    "#function可搭配 dict comprehension\n",
    "set('banana')"
   ]
  },
  {
   "cell_type": "markdown",
   "id": "71dc6900-6c67-4873-b76a-c3d17d830c0e",
   "metadata": {},
   "source": [
    "#### 4. 輸出輸入"
   ]
  },
  {
   "cell_type": "code",
   "execution_count": 75,
   "id": "bb9256c6-0013-4cd2-87ff-1e3da35ba6bc",
   "metadata": {},
   "outputs": [],
   "source": [
    "#1.standard output(stdout)=print()\n",
    "#2.standard error(stderr)\n",
    "#0.standard input(stdin)=input([prompt]) 語法的[]=optional"
   ]
  },
  {
   "cell_type": "code",
   "execution_count": 97,
   "id": "53988e4a-a68b-4b8a-8feb-bfdb3a3cae76",
   "metadata": {},
   "outputs": [
    {
     "name": "stdout",
     "output_type": "stream",
     "text": [
      "11:12\n"
     ]
    }
   ],
   "source": [
    "print(11,12,sep=':') #,' '源自linux的awk"
   ]
  },
  {
   "cell_type": "code",
   "execution_count": 125,
   "id": "dcc1050d-a356-4215-9511-9582a6166adc",
   "metadata": {},
   "outputs": [
    {
     "name": "stdin",
     "output_type": "stream",
     "text": [
      "Please enter a number: 2\n",
      "Please enter another number: 3\n"
     ]
    },
    {
     "data": {
      "text/plain": [
       "('2', 3)"
      ]
     },
     "execution_count": 125,
     "metadata": {},
     "output_type": "execute_result"
    }
   ],
   "source": [
    "#input()type是str\n",
    "#print()看不出type\n",
    "#eval()運算所以type是numeric\n",
    "x=input('Please enter a number:')\n",
    "y=eval(input('Please enter another number:'))\n",
    "x,y"
   ]
  },
  {
   "cell_type": "code",
   "execution_count": 439,
   "id": "becafdf8-d010-4057-83f9-5c22186be5ab",
   "metadata": {},
   "outputs": [
    {
     "name": "stdin",
     "output_type": "stream",
     "text": [
      "what is your name a\n",
      "How old are you 1\n",
      "boy or girl 2\n"
     ]
    },
    {
     "data": {
      "text/plain": [
       "'A is a 1-year-old 2.'"
      ]
     },
     "execution_count": 439,
     "metadata": {},
     "output_type": "execute_result"
    }
   ],
   "source": [
    "#f'{}',since3.6\n",
    "#java,c#,aiot python2用%(求餘數and格式化)\n",
    "#Dictionary={'key':value,'key2'\"value2...},讀取{Dictionar['key']}\n",
    "a=input('what is your name')\n",
    "b=input('How old are you')\n",
    "c=input('boy or girl')\n",
    "dic={'name':a.upper(),'age':b,'gender':c}\n",
    "f'{dic['name']} is a {dic['age']}-year-old {dic['gender']}.'"
   ]
  },
  {
   "cell_type": "code",
   "execution_count": 437,
   "id": "9e318a40-2448-4a89-9df8-31681d550f18",
   "metadata": {},
   "outputs": [
    {
     "data": {
      "text/plain": [
       "('date is 1999-01-02 03:04:05', '012.35')"
      ]
     },
     "execution_count": 437,
     "metadata": {},
     "output_type": "execute_result"
    }
   ],
   "source": [
    "#小數格式 {x:06.3f}is from bash shell,補0顯示6位.3位f小數d整數四捨五入\n",
    "#str.format() e.g. '{:1.2f}'.format(key)\n",
    "#日期格式yyyy-mm-dd hh:MM:SS資料庫相容性較高\n",
    "from datetime import datetime\n",
    "data=12.34567\n",
    "f'date is {datetime(1999,1,2,3,4,5):%Y-%m-%d %H:%M:%S}',f'{data:06.2f}'\n",
    "#舊格式:文%s,int%d,float%5.2f e.g. '%s is %d dollars.' %(goods,price)"
   ]
  },
  {
   "cell_type": "code",
   "execution_count": 405,
   "id": "2574bd72-b89f-4d97-90ff-8b238e3d72c4",
   "metadata": {},
   "outputs": [
    {
     "name": "stdin",
     "output_type": "stream",
     "text": [
      "how much is art 13\n",
      "how much 1241\n"
     ]
    },
    {
     "data": {
      "text/plain": [
       "'Art:00013, Price:1241.00, Total: 1254.00'"
      ]
     },
     "execution_count": 405,
     "metadata": {},
     "output_type": "execute_result"
    }
   ],
   "source": [
    "a=int(input('how much is art'))\n",
    "p=float(input('how much'))\n",
    "f'Art:{a:05d}, Price:{p:6.2f}, Total:{a+p:8.2f}'"
   ]
  }
 ],
 "metadata": {
  "kernelspec": {
   "display_name": "Python 3 (ipykernel)",
   "language": "python",
   "name": "python3"
  },
  "language_info": {
   "codemirror_mode": {
    "name": "ipython",
    "version": 3
   },
   "file_extension": ".py",
   "mimetype": "text/x-python",
   "name": "python",
   "nbconvert_exporter": "python",
   "pygments_lexer": "ipython3",
   "version": "3.12.4"
  }
 },
 "nbformat": 4,
 "nbformat_minor": 5
}
