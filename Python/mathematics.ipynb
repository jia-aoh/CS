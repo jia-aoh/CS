{
 "cells": [
  {
   "cell_type": "markdown",
   "id": "352e71b8-2f67-4acb-8597-b389a4984ed8",
   "metadata": {
    "jp-MarkdownHeadingCollapsed": true
   },
   "source": [
    "#### 最大公因數 *largest_factor([1,2,3,4])"
   ]
  },
  {
   "cell_type": "code",
   "execution_count": 87,
   "id": "e3d8e166-c8b9-46c4-bc93-969efcb45832",
   "metadata": {},
   "outputs": [],
   "source": [
    "del largest_factor"
   ]
  },
  {
   "cell_type": "code",
   "execution_count": 131,
   "id": "83346e09-e2f7-49b5-9eb3-8d59684a594d",
   "metadata": {},
   "outputs": [],
   "source": [
    "import math\n",
    "from functools import reduce\n",
    "\n",
    "def largest_factor(integer):\n",
    "    \"\"\"{x} is largest factor of numbers.\n",
    "    largest_factor(integer) = [36,48,72,96]\n",
    "    \"\"\"\n",
    "    return reduce(math.gcd, integer)"
   ]
  },
  {
   "cell_type": "markdown",
   "id": "9d722244-7cd1-4c9a-a4c6-90628db779b2",
   "metadata": {
    "jp-MarkdownHeadingCollapsed": true
   },
   "source": [
    "#### fibonacci(0)"
   ]
  },
  {
   "cell_type": "code",
   "execution_count": 199,
   "id": "30c5a50d-d9c0-41cc-98f4-ab1bec36f1d2",
   "metadata": {},
   "outputs": [],
   "source": [
    "#for loop is faster than while loop\n",
    "def fibonacci(n):\n",
    "    \"\"\"Return the (n)th Fibonacci number.\n",
    "    fibonacci(0)=0,(5)=5\n",
    "    \"\"\"\n",
    "    if n == 0:\n",
    "        return 0\n",
    "    elif n == 1:\n",
    "        return 1\n",
    "\n",
    "    a, b = 0, 1\n",
    "    for _ in range(1, n):\n",
    "        a, b = b, a + b\n",
    "    return b"
   ]
  },
  {
   "cell_type": "markdown",
   "id": "bc73793e-5abc-4863-b920-2952d59e58a0",
   "metadata": {},
   "source": [
    "#### 計算面積 將function整理同質提出"
   ]
  },
  {
   "cell_type": "code",
   "execution_count": 223,
   "id": "f9692136-5623-4beb-8280-98e037e6dbad",
   "metadata": {},
   "outputs": [],
   "source": [
    "from math import pi, sqrt\n",
    "\n",
    "# square, circle, hexagon都需要0以上的數，所以提出。\n",
    "def area(r, shape_constant):\n",
    "    assert r >= 0, 'Length must be positive or 0.'\n",
    "    return r * r * shape_constant\n",
    "\n",
    "def area_square(r):\n",
    "    return area(r, 1)\n",
    "\n",
    "def area_circle(r):\n",
    "    return area(r, pi)\n",
    "\n",
    "def area_hexagon(r):\n",
    "    return area(r, 3 * sqrt(3) / 2)"
   ]
  }
 ],
 "metadata": {
  "kernelspec": {
   "display_name": "Python 3 (ipykernel)",
   "language": "python",
   "name": "python3"
  },
  "language_info": {
   "codemirror_mode": {
    "name": "ipython",
    "version": 3
   },
   "file_extension": ".py",
   "mimetype": "text/x-python",
   "name": "python",
   "nbconvert_exporter": "python",
   "pygments_lexer": "ipython3",
   "version": "3.12.4"
  }
 },
 "nbformat": 4,
 "nbformat_minor": 5
}
