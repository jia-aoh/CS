{
 "cells": [
  {
   "cell_type": "markdown",
   "id": "fe00ba5d-c1b0-4985-a257-6b06c8036145",
   "metadata": {},
   "source": [
    "### 1.Sorting"
   ]
  },
  {
   "cell_type": "markdown",
   "id": "b21b955b-6a3f-4a22-8b3c-adbe61c5b6ae",
   "metadata": {
    "jp-MarkdownHeadingCollapsed": true
   },
   "source": [
    "#### 1.1 Selection Sort N^2,N"
   ]
  },
  {
   "cell_type": "code",
   "execution_count": 163,
   "id": "decfaca8-def7-4ac7-b3d0-7fc5b80d1a7c",
   "metadata": {},
   "outputs": [],
   "source": [
    "def selection_sort(x):\n",
    "    for i in range(len(x)-1):\n",
    "        min= i\n",
    "        for j in range(i+1, len(x)):\n",
    "            if x[min] > x[j]:\n",
    "                min = j\n",
    "        x[i], x[min] = x[min], x[i]\n",
    "    for i in range(len(x)):\n",
    "        return(x)"
   ]
  },
  {
   "cell_type": "code",
   "execution_count": 165,
   "id": "16b8ad1e-037a-40a7-8f20-85743004eee4",
   "metadata": {},
   "outputs": [
    {
     "data": {
      "text/plain": [
       "[11, 12, 22, 25, 34, 64, 90]"
      ]
     },
     "execution_count": 165,
     "metadata": {},
     "output_type": "execute_result"
    }
   ],
   "source": [
    "selection_sort([64, 34, 25, 12, 22, 11, 90])"
   ]
  },
  {
   "cell_type": "markdown",
   "id": "374842ce-4d1d-4cef-b167-a361588cea9b",
   "metadata": {
    "jp-MarkdownHeadingCollapsed": true
   },
   "source": [
    "#### 1.2 Bubble Sort N^2,1"
   ]
  },
  {
   "cell_type": "code",
   "execution_count": 167,
   "id": "103c6e54-bb06-4c56-b1d0-bf1ea214d981",
   "metadata": {},
   "outputs": [],
   "source": [
    "def bubble_sort(x):\n",
    "    for i in range(len(x)):\n",
    "        swapped = False\n",
    "        for j in range(0, len(x)-i-1):\n",
    "            if x[j] > x[j+1]:\n",
    "                x[j], x[j+1] = x[j+1], x[j]\n",
    "                swapped = True\n",
    "        if (swapped == False):\n",
    "            break\n",
    "    for i in range(len(x)):\n",
    "        return(x)"
   ]
  },
  {
   "cell_type": "code",
   "execution_count": 169,
   "id": "482af679-2acd-4678-8ffb-9dcaf4285b92",
   "metadata": {},
   "outputs": [
    {
     "data": {
      "text/plain": [
       "[11, 12, 22, 25, 34, 64, 90]"
      ]
     },
     "execution_count": 169,
     "metadata": {},
     "output_type": "execute_result"
    }
   ],
   "source": [
    "bubble_sort([64, 34, 25, 12, 22, 11, 90])"
   ]
  },
  {
   "cell_type": "markdown",
   "id": "8a67c059-c5db-46f6-82b3-31d4a23322b9",
   "metadata": {
    "jp-MarkdownHeadingCollapsed": true
   },
   "source": [
    "#### 1.3 Insetion Sort N^2,1"
   ]
  },
  {
   "cell_type": "code",
   "execution_count": 180,
   "id": "a61fcd84-1777-42e1-a44b-bb8c1843ef39",
   "metadata": {},
   "outputs": [],
   "source": [
    "def insertion_sort(x):\n",
    "    for i in range(1, len(x)):\n",
    "        key = x[i]\n",
    "        j = i - 1\n",
    "        while j >= 0 and key < x[j]:\n",
    "            x[j + 1] = x[j]\n",
    "            j -= 1\n",
    "        x[j + 1] = key\n",
    "    for i in range(len(x)):\n",
    "        return(x)"
   ]
  },
  {
   "cell_type": "code",
   "execution_count": 222,
   "id": "e744c537-79a2-471c-921e-ac21cb92d5d1",
   "metadata": {},
   "outputs": [
    {
     "data": {
      "text/plain": [
       "[5, 6, 7, 11, 12, 13]"
      ]
     },
     "execution_count": 222,
     "metadata": {},
     "output_type": "execute_result"
    }
   ],
   "source": [
    "insertion_sort([12, 11, 13, 5, 6, 7])"
   ]
  },
  {
   "cell_type": "markdown",
   "id": "28c20a69-f99f-436d-b128-efd965558034",
   "metadata": {
    "jp-MarkdownHeadingCollapsed": true
   },
   "source": [
    "#### 1.4 Merge Sort"
   ]
  },
  {
   "cell_type": "markdown",
   "id": "9f4ad9ac-f893-481c-98b7-bbec6806cad5",
   "metadata": {},
   "source": [
    "def merge_sort(x):\n",
    "    if len(x) > 1:\n",
    "        mid = len(x) // 2\n",
    "        left = x[:mid]\n",
    "        right = x[mid:]\n",
    "\n",
    "        merge_sort(left)\n",
    "        merge_sort(right)\n",
    "\n",
    "        i = j = k = 0\n",
    "\n",
    "        while i < len(left) and j < len(right):\n",
    "            if left[i] < right[j]:\n",
    "                x[k] = left[i]\n",
    "                i += 1\n",
    "            else:\n",
    "                x[k] = right[j]\n",
    "                j += 1\n",
    "            k += 1\n",
    "\n",
    "        while i < len(left):\n",
    "            x[k] = left[i]\n",
    "            i += 1\n",
    "            k += 1\n",
    "\n",
    "        while j < len(right):\n",
    "            x[k] = right[j]\n",
    "            j += 1\n",
    "            k += 1\n",
    "    for i in range(len(x)):\n",
    "        return(x)"
   ]
  },
  {
   "cell_type": "code",
   "execution_count": 312,
   "id": "28863bdb-c992-40ab-a129-7dc19a6feec0",
   "metadata": {},
   "outputs": [
    {
     "name": "stdout",
     "output_type": "stream",
     "text": [
      "[5, 6, 7, 11, 12, 13]\n"
     ]
    }
   ],
   "source": [
    "print(merge_sort([12, 11, 13, 5, 6, 7]))"
   ]
  },
  {
   "cell_type": "markdown",
   "id": "48d1bf42-e844-4db2-9c6b-29039e8471ef",
   "metadata": {
    "jp-MarkdownHeadingCollapsed": true
   },
   "source": [
    "#### 1.5 待優化Quick Sort NlogN~N^2, N"
   ]
  },
  {
   "cell_type": "code",
   "execution_count": 400,
   "id": "66004be7-120b-4349-a8c5-69daafcb7c64",
   "metadata": {},
   "outputs": [
    {
     "name": "stdout",
     "output_type": "stream",
     "text": [
      "2.54 μs ± 99.8 ns per loop (mean ± std. dev. of 7 runs, 100,000 loops each)\n"
     ]
    }
   ],
   "source": [
    "%%timeit\n",
    "def partition(x, low, high):\n",
    "  \n",
    "    # Choose the pivot\n",
    "    pivot = x[high]\n",
    "    \n",
    "    i = low - 1\n",
    "    \n",
    "    # Traverse arr[low..high] and move all smaller\n",
    "    # elements on the left side. Elements from low to \n",
    "    # i are smaller after every iteration\n",
    "    for j in range(low, high):\n",
    "        if x[j] < pivot:\n",
    "            i += 1\n",
    "            x[i], x[j] = x[j], x[i]\n",
    "    \n",
    "    # Move pivot after smaller elements and\n",
    "    # return its position\n",
    "    x[i + 1], x[high] = x[high], x[i + 1]\n",
    "    return i + 1\n",
    "\n",
    "# The QuickSort function implementation\n",
    "def quick_sort(x, low, high):\n",
    "    if low < high:\n",
    "        # pi is the partition return index of pivot\n",
    "        pi = partition(x, low, high)\n",
    "\n",
    "        # Recursion calls for smaller elements\n",
    "        # and greater or equals elements\n",
    "        quick_sort(x, low, pi - 1)\n",
    "        quick_sort(x, pi + 1, high)\n",
    "\n",
    "# Function to print an array\n",
    "def print_array(x):\n",
    "    for i in x:\n",
    "        print(i, end=\" \")\n",
    "    print()\n",
    "x = [10, 7, 8, 9, 1, 5]\n",
    "\n",
    "\n",
    "quick_sort(x, 0, len(x) - 1)\n",
    "\n",
    "#print(\"\\nSorted array is\")\n",
    "#print_array(x)"
   ]
  },
  {
   "cell_type": "code",
   "execution_count": 410,
   "id": "1af7bbd2-93f9-44fd-842a-89b636f44ca7",
   "metadata": {},
   "outputs": [],
   "source": [
    "def quick_sort(x):\n",
    "    if len(x) <= 1:\n",
    "        return x\n",
    "    pivot = x[len(x) // 2]  # Choosing the middle element as the pivot\n",
    "    left = [i for i in x if i < pivot]\n",
    "    middle = [i for i in x if i == pivot]\n",
    "    right = [i for i in x if i > pivot]\n",
    "    return quick_sort(left) + middle + quick_sort(right)"
   ]
  },
  {
   "cell_type": "code",
   "execution_count": 412,
   "id": "d9bc1b5a-68f3-4d8f-942a-6f4037d06c9d",
   "metadata": {},
   "outputs": [
    {
     "name": "stdout",
     "output_type": "stream",
     "text": [
      "[1, 5, 7, 8, 9, 10]\n"
     ]
    }
   ],
   "source": [
    "print(quick_sort([10, 7, 8, 9, 1, 5]))"
   ]
  },
  {
   "cell_type": "markdown",
   "id": "5dc646b5-f6f0-42e3-8c83-82baa38df9c8",
   "metadata": {},
   "source": [
    "#### Heap Sort"
   ]
  },
  {
   "cell_type": "code",
   "execution_count": null,
   "id": "7c4c0387-46b9-46ad-8bea-eb2ead0b9366",
   "metadata": {},
   "outputs": [],
   "source": []
  }
 ],
 "metadata": {
  "kernelspec": {
   "display_name": "Python 3 (ipykernel)",
   "language": "python",
   "name": "python3"
  },
  "language_info": {
   "codemirror_mode": {
    "name": "ipython",
    "version": 3
   },
   "file_extension": ".py",
   "mimetype": "text/x-python",
   "name": "python",
   "nbconvert_exporter": "python",
   "pygments_lexer": "ipython3",
   "version": "3.12.4"
  }
 },
 "nbformat": 4,
 "nbformat_minor": 5
}
